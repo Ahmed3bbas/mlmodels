{
 "cells": [
  {
   "source": [
    "## Import library and functions"
   ],
   "cell_type": "markdown",
   "metadata": {}
  },
  {
   "cell_type": "code",
   "execution_count": 1,
   "metadata": {},
   "outputs": [],
   "source": [
    "%load_ext autoreload\n",
    "%autoreload 2\n",
    "\n",
    "import mlmodels\n",
    "from mlmodels.models import module_load\n",
    "import json"
   ]
  },
  {
   "cell_type": "markdown",
   "metadata": {},
   "source": [
    "## Load model and data definitions from json"
   ]
  },
  {
   "cell_type": "code",
   "execution_count": 2,
   "metadata": {},
   "outputs": [],
   "source": [
    "model_uri    = \"model_sklearn.model_lightgbm.py\"\n",
    "module        =  module_load( model_uri= model_uri)\n",
    "\n",
    "data_path = '../dataset/json/lightgbm_titanic.json'  \n",
    "\n",
    "pars = json.load(open( data_path , mode='r'))\n",
    "for key, pdict in  pars.items() :\n",
    "  globals()[key] = pdict   \n",
    "\n",
    "model_pars      = test['model_pars']\n",
    "data_pars       = test['data_pars']\n",
    "compute_pars    = test['compute_pars']\n",
    "out_pars        = test['out_pars']"
   ]
  },
  {
   "cell_type": "markdown",
   "metadata": {},
   "source": [
    "## Load parameters and train"
   ]
  },
  {
   "cell_type": "code",
   "execution_count": 3,
   "metadata": {},
   "outputs": [],
   "source": [
    "model = module.Model(model_pars, data_pars, compute_pars)\n",
    "model, session = module.fit(model, data_pars, compute_pars, out_pars)"
   ]
  },
  {
   "cell_type": "markdown",
   "metadata": {},
   "source": [
    "## Check inference"
   ]
  },
  {
   "cell_type": "code",
   "execution_count": 4,
   "metadata": {},
   "outputs": [
    {
     "output_type": "stream",
     "name": "stdout",
     "text": "[[ 0.72297801  0.18553562  0.91549927  0.39442803 -0.84983074  0.72552256\n  -0.15050433  1.49588477  0.67545381 -0.43820027]\n [ 1.06702918 -0.42914228  0.35016716  1.20845633  0.75148062  1.1157018\n  -0.4791571   0.84086156 -0.10288722  0.01716473]\n [ 0.86146256  0.07432055 -1.34501002 -0.19956072 -1.47533915 -0.65460317\n  -0.31456386  0.3180143  -0.89027155 -1.29525789]\n [ 0.89551051  0.92061512  0.79452824 -0.03536792  0.8780991   2.11060505\n  -1.02188594 -1.30653407  0.07638048 -1.87316098]\n [ 1.02242019  1.85300949  0.64435367  0.14225137  1.15080755  0.51350548\n  -0.45994283  0.37245685 -0.1484898   0.37167029]\n [ 0.94781411 -1.13379204  0.64098587 -0.1905483  -1.23912256  0.23333913\n  -0.3169012   0.43499832  0.9104236   1.21987438]\n [ 1.27991386 -0.87142207 -0.32403233 -0.86482994 -0.96853969  0.60874908\n   0.50798434  0.5616381   1.51475038 -1.51107661]\n [ 0.6109426  -2.79099641 -1.33520272 -0.45611756 -0.94495995 -0.97989025\n  -0.15699367  0.69257435 -0.47867236 -0.10646012]\n [ 0.89562312 -2.29820588 -0.01952256  1.45652739 -1.85064099  0.31663724\n   0.11133727 -2.66412594 -0.42642862 -0.83998891]\n [ 1.34728643 -0.36453805  0.08075099 -0.45971768 -0.8894876   1.70548352\n   0.09499611  0.24050555 -0.9994265  -0.76780375]\n [ 1.46893146 -1.47115693  0.58591043 -0.8301719   1.03345052 -0.8805776\n  -0.95542526 -0.27909772  1.62284909  2.06578332]\n [ 0.85877496  2.29371761 -1.47023709 -0.83001099 -0.67204982 -1.01951985\n   0.59921324 -0.21465384  1.02124813  0.60640394]\n [ 1.02817479 -0.50845713  1.7653351   0.77741921  0.61771419 -0.11877117\n   0.45015551 -0.19899818  1.86647138  0.8709698 ]\n [ 0.92686981  0.39233491 -0.4234783   0.44838065 -1.09230828  1.1253235\n  -0.94843966  0.10405339  0.52800342  1.00796648]\n [ 0.70017571  0.55607351  0.08968641  1.69380911  0.88239331  0.19686978\n  -0.56378873  0.16986926 -1.16400797 -0.6011568 ]\n [ 1.32720112 -0.16119832  0.6024509  -0.28638492 -0.5789623  -0.87088765\n   1.37975819  0.50142959 -0.47861407 -0.89264667]\n [ 1.1437713   0.7278135   0.35249436  0.51507361  1.17718111 -2.78253447\n  -1.94332341  0.58464661  0.32427424 -0.23643695]\n [ 0.68188934 -1.15498263  1.22895559 -0.1776322   0.99854519 -1.51045638\n  -0.27584606  1.01120706 -1.47656266  1.30970591]\n [ 0.5630779  -1.17598267 -0.17418034  1.01012718  1.06796368  0.92001793\n  -0.16819884 -0.19505734  0.80539342  0.4611641 ]\n [ 0.87122579 -0.20975294 -0.45698786  0.93514778 -0.87353582  1.81252782\n   0.92550121  0.14010988 -1.41914878  1.06898597]\n [ 1.12641981 -0.6294416   1.1010002  -1.1134361   0.94459507 -0.06741002\n  -0.1834002   1.16143998 -0.02752939  0.78002714]\n [ 1.06040861  0.5103076   0.50172511 -0.91579185 -0.90731836 -0.40725204\n  -0.17961229  0.98495167  1.07125243 -0.59334375]\n [ 0.62368852  1.2066079   0.90399917 -0.28286355 -1.18913787 -0.26632688\n   1.42361443  1.06897162  0.04037143  1.57546791]\n [ 0.85771953  0.09811225 -0.26046606  1.06032751 -1.39003042 -1.71116766\n   0.2656424   1.65712464  1.41767401  0.44509671]\n [ 0.96457205 -0.10679399  1.12232832  1.45142926  1.21828168 -0.61803685\n   0.43816635 -2.03720123 -1.94258918 -0.9970198 ]]\n"
    }
   ],
   "source": [
    "ypred       = module.predict(model,  data_pars=data_pars, compute_pars=compute_pars, out_pars=out_pars)     # predict pipeline\n",
    "ypred"
   ]
  },
  {
   "cell_type": "markdown",
   "metadata": {},
   "source": [
    "## Check metrics"
   ]
  },
  {
   "cell_type": "code",
   "execution_count": 5,
   "metadata": {},
   "outputs": [
    {
     "output_type": "execute_result",
     "data": {
      "text/plain": "{'feature_importance': array([11, 16,  5,  3, 62, 16, 19, 20, 13,  5], dtype=int32)}"
     },
     "metadata": {},
     "execution_count": 5
    }
   ],
   "source": [
    "metrics_val = module.fit_metrics(model, data_pars, compute_pars, out_pars)\n",
    "metrics_val"
   ]
  }
 ],
 "metadata": {
  "kernelspec": {
   "display_name": "Python 3.6.5 64-bit ('py36': conda)",
   "language": "python",
   "name": "python36564bitpy36condaf0150c87c01f495abc87fbc4cc134a32"
  },
  "language_info": {
   "codemirror_mode": {
    "name": "ipython",
    "version": 3
   },
   "file_extension": ".py",
   "mimetype": "text/x-python",
   "name": "python",
   "nbconvert_exporter": "python",
   "pygments_lexer": "ipython3",
   "version": "3.6.5-final"
  }
 },
 "nbformat": 4,
 "nbformat_minor": 4
}